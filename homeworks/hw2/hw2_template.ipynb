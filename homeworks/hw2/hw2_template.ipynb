{
 "cells": [
  {
   "cell_type": "code",
   "execution_count": 1,
   "id": "6241b07b-2e75-44eb-ba94-41b3d668f350",
   "metadata": {},
   "outputs": [],
   "source": [
    "import os\n",
    "import numpy as np\n",
    "import pandas as pd\n",
    "import matplotlib.pyplot as plt\n",
    "from PIL import Image\n",
    "import numpy as np\n",
    "import torch\n",
    "from torch.utils.data import Dataset, DataLoader\n"
   ]
  },
  {
   "cell_type": "code",
   "execution_count": 2,
   "id": "2cf1233fadfc9052",
   "metadata": {},
   "outputs": [],
   "source": [
    "def encoded_pixels_to_masks(fname: str, df: pd.DataFrame):\n",
    "    fname_df = df[df['ImageId'] == fname]\n",
    "    masks = np.zeros((256 * 1600, 4), dtype=int) # float32 is V.Imp\n",
    "\n",
    "    for i_row, row in fname_df.iterrows():\n",
    "        cls_id = row['ClassId']\n",
    "        encoded_pixels = row['EncodedPixels']\n",
    "        if encoded_pixels is not np.nan:\n",
    "            pixel_list = list(map(int, encoded_pixels.split(' ')))\n",
    "            for i in range(0, len(pixel_list), 2):\n",
    "                start_pixel = pixel_list[i] - 1\n",
    "                num_pixel = pixel_list[i+1]\n",
    "                masks[start_pixel:(start_pixel+num_pixel), cls_id-1] = 1\n",
    "                \n",
    "    masks = masks.reshape(256, 1600, 4, order='F')\n",
    "\n",
    "    return masks\n",
    "\n",
    "def masks_to_encoded_pixels(masks: np.ndarray):\n",
    "    masks = masks.reshape(256*1600, 4, order='F')\n",
    "    encoded_pixels_list = []\n",
    "    for cls_id in range(4):\n",
    "        cls_mask = masks[:, cls_id]\n",
    "        cls_mask = cls_mask.reshape(256, 1600, order='F')\n",
    "        cls_mask = cls_mask.T.flatten()\n",
    "        prev_pixel = 0\n",
    "        prev_pixel_val = 0\n",
    "        encoded_pixels = []\n",
    "        for i, pixel_val in enumerate(cls_mask):\n",
    "            if pixel_val != prev_pixel_val:\n",
    "                if pixel_val == 1:\n",
    "                    start_pixel = i + 1\n",
    "                    encoded_pixels.append(start_pixel - prev_pixel)\n",
    "                else:\n",
    "                    num_pixel = i - prev_pixel\n",
    "                    encoded_pixels.append(num_pixel)\n",
    "                prev_pixel = i\n",
    "                prev_pixel_val = pixel_val\n",
    "        encoded_pixels_list.append(encoded_pixels)\n",
    "    return encoded_pixels_list # shape: 4x[]"
   ]
  },
  {
   "cell_type": "markdown",
   "id": "eefe40ca-913d-4fd1-9570-b3b1e72ed647",
   "metadata": {},
   "source": [
    "### Sample example"
   ]
  },
  {
   "cell_type": "code",
   "execution_count": 3,
   "id": "dca3cfbe1da6f617",
   "metadata": {},
   "outputs": [
    {
     "data": {
      "text/plain": [
       "0       0002cc93b.jpg\n",
       "1       0007a71bf.jpg\n",
       "2       000a4bcdd.jpg\n",
       "3       000f6bf48.jpg\n",
       "4       0014fce06.jpg\n",
       "            ...      \n",
       "7090    ffcf72ecf.jpg\n",
       "7091    fff02e9c5.jpg\n",
       "7092    fffe98443.jpg\n",
       "7093    ffff4eaa8.jpg\n",
       "7094    ffffd67df.jpg\n",
       "Name: ImageId, Length: 7095, dtype: object"
      ]
     },
     "execution_count": 3,
     "metadata": {},
     "output_type": "execute_result"
    }
   ],
   "source": [
    "train_val_csv = 'data/train.csv'\n",
    "test_csv = 'data/test.csv'\n",
    "\n",
    "df = pd.read_csv(train_val_csv)\n",
    "\n",
    "df.ImageId"
   ]
  },
  {
   "cell_type": "code",
   "execution_count": 4,
   "id": "c02f3835-64f4-4421-9818-39f356e747c0",
   "metadata": {},
   "outputs": [
    {
     "data": {
      "text/html": [
       "<div>\n",
       "<style scoped>\n",
       "    .dataframe tbody tr th:only-of-type {\n",
       "        vertical-align: middle;\n",
       "    }\n",
       "\n",
       "    .dataframe tbody tr th {\n",
       "        vertical-align: top;\n",
       "    }\n",
       "\n",
       "    .dataframe thead th {\n",
       "        text-align: right;\n",
       "    }\n",
       "</style>\n",
       "<table border=\"1\" class=\"dataframe\">\n",
       "  <thead>\n",
       "    <tr style=\"text-align: right;\">\n",
       "      <th></th>\n",
       "      <th>ImageId</th>\n",
       "      <th>ClassId</th>\n",
       "      <th>EncodedPixels</th>\n",
       "    </tr>\n",
       "  </thead>\n",
       "  <tbody>\n",
       "    <tr>\n",
       "      <th>0</th>\n",
       "      <td>0002cc93b.jpg</td>\n",
       "      <td>1</td>\n",
       "      <td>29102 12 29346 24 29602 24 29858 24 30114 24 3...</td>\n",
       "    </tr>\n",
       "  </tbody>\n",
       "</table>\n",
       "</div>"
      ],
      "text/plain": [
       "         ImageId  ClassId                                      EncodedPixels\n",
       "0  0002cc93b.jpg        1  29102 12 29346 24 29602 24 29858 24 30114 24 3..."
      ]
     },
     "execution_count": 4,
     "metadata": {},
     "output_type": "execute_result"
    }
   ],
   "source": [
    "# let's look at encoded pixels for the first image\n",
    "img_id = '0002cc93b.jpg'\n",
    "df[df.ImageId==img_id]"
   ]
  },
  {
   "cell_type": "code",
   "execution_count": 5,
   "id": "d79326be-c19e-4ca0-b41c-9401286dd7f9",
   "metadata": {},
   "outputs": [
    {
     "data": {
      "text/plain": [
       "<matplotlib.image.AxesImage at 0x138c4e5d0>"
      ]
     },
     "execution_count": 5,
     "metadata": {},
     "output_type": "execute_result"
    },
    {
     "data": {
      "image/png": "[encoded data removed]",
      "text/plain": [
       "<Figure size 640x480 with 1 Axes>"
      ]
     },
     "metadata": {},
     "output_type": "display_data"
    }
   ],
   "source": [
    "masks = encoded_pixels_to_masks(img_id, df, )\n",
    "plt.imshow(masks[:,:,0]*255)"
   ]
  },
  {
   "cell_type": "code",
   "execution_count": 6,
   "id": "4b39a4f2-8c15-46d5-b711-0dadd816759a",
   "metadata": {},
   "outputs": [],
   "source": [
    "img = Image.open(os.path.join('data/train_images',img_id))"
   ]
  },
  {
   "cell_type": "code",
   "execution_count": 9,
   "id": "b8bde161-88fe-4681-a312-fb3e789fdf18",
   "metadata": {},
   "outputs": [
    {
     "data": {
      "text/plain": [
       "(256, 1600, 3)"
      ]
     },
     "execution_count": 9,
     "metadata": {},
     "output_type": "execute_result"
    }
   ],
   "source": [
    "np.array(img).shape"
   ]
  },
  {
   "cell_type": "code",
   "execution_count": null,
   "id": "72ddff3e-7288-4100-a782-69c08f682806",
   "metadata": {},
   "outputs": [],
   "source": [
    "img"
   ]
  },
  {
   "cell_type": "code",
   "execution_count": null,
   "id": "4842270f-c554-468d-adc8-feceb12706f3",
   "metadata": {},
   "outputs": [],
   "source": [
    "# let's encode masks back to encoded pixels\n",
    "np.array(masks_to_encoded_pixels(masks)[0])"
   ]
  },
  {
   "cell_type": "markdown",
   "id": "37c3c4cf-4643-486a-8878-0379c60c03d5",
   "metadata": {},
   "source": [
    "### Your code starts from here"
   ]
  },
  {
   "cell_type": "code",
   "execution_count": null,
   "id": "5a51d514-96b5-4e00-a098-8d820ffbdb52",
   "metadata": {},
   "outputs": [],
   "source": [
    "class SeverstalSteelDataset(Dataset):\n",
    "    def __init__(self, fnames, df, img_dir, transform=None):\n",
    "        self.df = df\n",
    "        self.img_dir = img_dir\n",
    "        self.fnames = fnames\n",
    "\n",
    "    def __len__(self):\n",
    "        return len(self.fnames)\n",
    "\n",
    "    def __getitem__(self, idx):\n",
    "        img_id = self.fnames[idx]\n",
    "        # YOUR CODE HERE\n",
    "        return fname, img, masks\n",
    "    \n",
    "# collate function if needed\n",
    "def collate_fn(batch_items):\n",
    "    # YOUR CODE HERE\n",
    "    return batched_fnames, batched_imgs, batched_masks\n",
    "    "
   ]
  },
  {
   "cell_type": "code",
   "execution_count": null,
   "id": "b6bc81826579aca1",
   "metadata": {},
   "outputs": [],
   "source": [
    "class SegModel(torch.nn.Module):\n",
    "    def __init__(self):\n",
    "        super(SegModel, self).__init__()\n",
    "        # YOUR CODE HERE\n",
    "\n",
    "    def forward(self, x):\n",
    "        # YOUR CODE HERE\n",
    "        return x"
   ]
  },
  {
   "cell_type": "code",
   "execution_count": null,
   "id": "a871ea7c-e520-44aa-8765-d7be360d7b0f",
   "metadata": {},
   "outputs": [],
   "source": [
    "def load_data(train_val_csv, test_csv, train_val_img_dir, test_img_dir):\n",
    "    train_val_df = pd.read_csv(train_val_csv)\n",
    "    train_val_fnames = pd.unique(df.ImageId)\n",
    "    test_df = pd.read_csv(test_csv)\n",
    "    test_fnames = pd.unique(test_df.ImageId)\n",
    "    \n",
    "    train_fnames, val_fnames = None, None# YOUR CODE HERE\n",
    "    train_dataset = None # YOUR CODE HERE\n",
    "    val_dataset = None # YOUR CODE HERE\n",
    "    test_dataset = None # YOUR CODE HERE\n",
    "\n",
    "    train_loader = None # YOUR CODE HERE\n",
    "    val_loader = None # YOUR CODE HERE\n",
    "    test_loader = None # YOUR CODE HERE\n",
    "    \n",
    "    return train_loader, val_loader, test_loader"
   ]
  },
  {
   "cell_type": "code",
   "execution_count": null,
   "id": "9886aee35f0139bd",
   "metadata": {},
   "outputs": [],
   "source": [
    "def init_model():\n",
    "    ### YOUR CODE HERE\n",
    "    return model, criterion, optimizer\n",
    "\n",
    "def train(model, criterion, optimizer, loader, epochs):\n",
    "    ### YOUR CODE HERE\n",
    "    return model\n",
    "\n",
    "def evaluate(model, loader):\n",
    "    ### YOUR CODE HERE\n",
    "    return submission_df"
   ]
  },
  {
   "cell_type": "code",
   "execution_count": null,
   "id": "4f0933c5eb321cff",
   "metadata": {},
   "outputs": [],
   "source": [
    "#"
   ]
  }
 ],
 "metadata": {
  "kernelspec": {
   "display_name": "Python 3 (ipykernel)",
   "language": "python",
   "name": "python3"
  },
  "language_info": {
   "codemirror_mode": {
    "name": "ipython",
    "version": 3
   },
   "file_extension": ".py",
   "mimetype": "text/x-python",
   "name": "python",
   "nbconvert_exporter": "python",
   "pygments_lexer": "ipython3",
   "version": "3.12.0"
  }
 },
 "nbformat": 4,
 "nbformat_minor": 5
}
