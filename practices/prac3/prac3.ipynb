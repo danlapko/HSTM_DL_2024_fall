{
 "cells": [
  {
   "cell_type": "code",
   "execution_count": null,
   "id": "6241b07b-2e75-44eb-ba94-41b3d668f350",
   "metadata": {
    "jupyter": {
     "is_executing": true
    }
   },
   "outputs": [],
   "source": [
    "import os\n",
    "import numpy as np\n",
    "import pandas as pd\n",
    "import matplotlib.pyplot as plt\n",
    "from PIL import Image\n",
    "import numpy as np\n",
    "import torch\n",
    "from sklearn.model_selection import train_test_split\n",
    "from torch.utils.data import Dataset, DataLoader\n",
    "from typing import List\n",
    "import torch.nn as nn\n",
    "import torch.nn.functional as F\n",
    "from tqdm.auto import tqdm\n",
    "tqdm.pandas()\n",
    "\n",
    "from cfr10_dataset import Cifar10Dataset, load_data, collate_fn"
   ]
  },
  {
   "cell_type": "code",
   "execution_count": null,
   "id": "dca3cfbe1da6f617",
   "metadata": {},
   "outputs": [],
   "source": [
    "data_dir = '../prac3/cifar-10/'\n",
    "train_val_csv = os.path.join(data_dir, 'trainLabels.csv')\n",
    "train_imgs_dir = os.path.join(data_dir, 'train')\n",
    "\n",
    "df = pd.read_csv(train_val_csv)\n",
    "\n",
    "df.head(5)"
   ]
  },
  {
   "cell_type": "code",
   "execution_count": null,
   "id": "c02f3835-64f4-4421-9818-39f356e747c0",
   "metadata": {},
   "outputs": [],
   "source": [
    "# let's look at the first image\n",
    "img_id = 1\n",
    "img_fname = os.path.join(train_imgs_dir, f'{img_id}.png')\n",
    "img_fname"
   ]
  },
  {
   "cell_type": "code",
   "execution_count": null,
   "id": "4b39a4f2-8c15-46d5-b711-0dadd816759a",
   "metadata": {},
   "outputs": [],
   "source": [
    "img = Image.open(img_fname)"
   ]
  },
  {
   "cell_type": "code",
   "execution_count": null,
   "id": "b8bde161-88fe-4681-a312-fb3e789fdf18",
   "metadata": {},
   "outputs": [],
   "source": [
    "np.array(img).shape"
   ]
  },
  {
   "cell_type": "code",
   "execution_count": null,
   "id": "72ddff3e-7288-4100-a782-69c08f682806",
   "metadata": {},
   "outputs": [],
   "source": [
    "img.resize((256,256))"
   ]
  },
  {
   "cell_type": "code",
   "execution_count": null,
   "id": "e1abc419-9944-45d7-901b-eac941214237",
   "metadata": {},
   "outputs": [],
   "source": [
    "np.array(img).shape"
   ]
  },
  {
   "cell_type": "code",
   "execution_count": null,
   "id": "c2ccf0f0-aecb-4917-a0d0-cb12dd3925cd",
   "metadata": {},
   "outputs": [],
   "source": [
    "np.array(img).dtype, np.array(img).min(), np.array(img).max()"
   ]
  },
  {
   "cell_type": "markdown",
   "id": "37c3c4cf-4643-486a-8878-0379c60c03d5",
   "metadata": {},
   "source": [
    "### Main pipeline"
   ]
  },
  {
   "cell_type": "code",
   "execution_count": null,
   "id": "b6bc81826579aca1",
   "metadata": {},
   "outputs": [],
   "source": [
    "class ClfModel(torch.nn.Module):\n",
    "    def __init__(self):\n",
    "        super().__init__()\n",
    "        self.conv1 = nn.Conv2d(3, 6, 5)\n",
    "        self.pool = nn.MaxPool2d(2, 2)\n",
    "        self.conv2 = nn.Conv2d(6, 16, 5)\n",
    "        self.fc1 = nn.Linear(16 * 5 * 5, 120)\n",
    "        self.fc2 = nn.Linear(120, 84)\n",
    "        self.fc3 = nn.Linear(84, 10)\n",
    "\n",
    "    def forward(self, x):\n",
    "        x = self.pool(F.relu(self.conv1(x)))\n",
    "        x = self.pool(F.relu(self.conv2(x)))\n",
    "        x = torch.flatten(x, 1) # flatten all dimensions except batch\n",
    "        x = F.relu(self.fc1(x))\n",
    "        x = F.relu(self.fc2(x))\n",
    "        x = self.fc3(x)\n",
    "        return x\n"
   ]
  },
  {
   "cell_type": "code",
   "execution_count": null,
   "id": "9886aee35f0139bd",
   "metadata": {},
   "outputs": [],
   "source": [
    "def init_model(lr):\n",
    "    model = ClfModel()\n",
    "    criterion = torch.nn.CrossEntropyLoss()\n",
    "    optimizer = torch.optim.Adam(model.parameters(), lr=lr)\n",
    "    return model, criterion, optimizer\n",
    "\n",
    "def validate(model, criterion, loader):\n",
    "    model.eval()\n",
    "    total_loss = 0\n",
    "    with torch.no_grad():\n",
    "        for fnames, images, labels in tqdm(loader, desc=\"val\"):\n",
    "            outputs = model(images)\n",
    "            loss = criterion(outputs, labels)\n",
    "            total_loss += loss.item()\n",
    "    return total_loss / len(loader)\n",
    "\n",
    "def train(model, criterion, optimizer, loader, val_loader, epochs):\n",
    "    model.train()\n",
    "    train_losses = []\n",
    "    val_losses = []\n",
    "    for epoch in range(epochs):\n",
    "        total_loss = 0\n",
    "        for batch in tqdm(loader, desc=\"train\"):\n",
    "            fnames, images, labels = batch\n",
    "            optimizer.zero_grad()\n",
    "            outputs = model(images)\n",
    "            loss = criterion(outputs, labels)\n",
    "            loss.backward()\n",
    "            optimizer.step()\n",
    "            total_loss += loss.item()\n",
    "\n",
    "        train_losses.append(total_loss/len(loader))\n",
    "        \n",
    "            \n",
    "            \n",
    "        val_loss = validate(model, criterion, val_loader)\n",
    "        val_losses.append(val_loss)\n",
    "        \n",
    "        print(f\"Epoch {epoch+1}/{epochs}, Train Loss: {total_loss / len(loader)}, Val Loss: {val_loss}\")\n",
    "            \n",
    "    return train_losses, val_losses"
   ]
  },
  {
   "cell_type": "code",
   "execution_count": null,
   "id": "4f0933c5eb321cff",
   "metadata": {},
   "outputs": [],
   "source": [
    "def run(train_val_csv, train_imgs_dir, test_imgs_dir, batch_size, lr, epochs, num_workers, num_samples):\n",
    "    train_loader, val_loader, test_loader = load_data(train_val_csv, train_imgs_dir, test_imgs_dir, batch_size, num_workers, num_samples)\n",
    "    model, criterion, optimizer = init_model(lr)\n",
    "    train_losses, val_losses = train(model, criterion, optimizer, train_loader, val_loader, epochs)\n",
    "    val_loss = validate(model, criterion, val_loader)\n",
    "    print(f\"Validation loss: {val_loss}\")\n",
    "    return train_losses, val_losses"
   ]
  },
  {
   "cell_type": "code",
   "execution_count": null,
   "id": "af51a6b525ccc520",
   "metadata": {
    "scrolled": true
   },
   "outputs": [],
   "source": [
    "data_dir = '../prac3/cifar-10/'\n",
    "train_val_csv = os.path.join(data_dir, 'trainLabels.csv')\n",
    "train_imgs_dir = os.path.join(data_dir, 'train')\n",
    "test_imgs_dir = os.path.join(data_dir, 'test')\n",
    "batch_size = 32\n",
    "lr = 0.001\n",
    "epochs = 50\n",
    "num_workers = 0\n",
    "num_samples = -1\n",
    "\n",
    "run(train_val_csv, train_imgs_dir, test_imgs_dir, batch_size, lr, epochs, num_workers, num_samples)"
   ]
  }
 ],
 "metadata": {
  "kernelspec": {
   "display_name": "Python 3 (ipykernel)",
   "language": "python",
   "name": "python3"
  },
  "language_info": {
   "codemirror_mode": {
    "name": "ipython",
    "version": 3
   },
   "file_extension": ".py",
   "mimetype": "text/x-python",
   "name": "python",
   "nbconvert_exporter": "python",
   "pygments_lexer": "ipython3",
   "version": "3.12.0"
  }
 },
 "nbformat": 4,
 "nbformat_minor": 5
}
